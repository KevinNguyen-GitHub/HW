{
 "cells": [
  {
   "cell_type": "markdown",
   "id": "fee21a70",
   "metadata": {},
   "source": [
    "# CECS 229 Coding Assignment #6\n",
    "\n",
    "#### Due Date: \n",
    "\n",
    "Sunday, 4/24 @ 11:59 PM\n",
    "\n",
    "#### Submission Instructions:\n",
    "\n",
    "To receive credit for this assignment you must submit the following by the due date:\n",
    "\n",
    "1. **To the BB Dropbox Folder:** this completed .ipynb file\n",
    "\n",
    "2. **To CodePost:** this file converted to a Python script named `ca6.py`\n",
    "\n",
    "#### Objectives:\n",
    "\n",
    "1. Apply Gaussian Elimination, with and without pivoting, to help solve the system $A \\overrightarrow{x} = \\overrightarrow{b}$.\n",
    "2. Use Lp -norm to calculate the error in a solution given by applying any of the Gaussian elimination algorithms.\n",
    "3. Use the RREF of the augmented matrix for the system $A \\overrightarrow{x} = \\overrightarrow{b}$ to determine if it has one solution, no solution, or infinitely-many solutions.\n",
    "4. Determine the number of free variables that the system $A \\overrightarrow{x} = \\overrightarrow{b}$ has if it has infinitely-many solutions.\n",
    "5. Determine whether a set of column-vectors is linearly dependent by forming and solving a system of the form $A \\overrightarrow{x} = \\overrightarrow{0}$.\n",
    "-----------------------------------------\n",
    "\n"
   ]
  },
  {
   "cell_type": "markdown",
   "id": "f498e9f7",
   "metadata": {},
   "source": [
    "#### Problem 1\n",
    "\n",
    "Copy-paste your implemented `Matrix` and `Vec` classes to the next cell.  Then, complete the following tasks:\n",
    "\n",
    "1. Add a method `norm(p)` to your `Vec` class so that if `u` is a `Vec` object, then `u.norm(p)` returns the $L_p$-norm of vector `u`.  Recall that the $L_p$-norm of an $n$-dimensional vector $\\overrightarrow{u}$ is given by, $||u||_p = \\left( \\sum_{i = 1}^{n} |u_i|^p\\right)^{1/p}$.  Input `p` should be of the type `int`.  The output norm should be of the type `float`.\n",
    "2. Add a method `rank()` to your `Matrix` class so that if `A` is a `Matrix` object, then `A.rank()` returns the rank of `A`."
   ]
  },
  {
   "cell_type": "code",
   "execution_count": null,
   "id": "c49d8b8c",
   "metadata": {},
   "outputs": [],
   "source": [
    "# COPY-PASTE YOUR Matrix AND Vec CLASSES TO THIS CELL. "
   ]
  },
  {
   "cell_type": "markdown",
   "id": "3d3e439e",
   "metadata": {},
   "source": [
    "#### Problem 2\n",
    "\n",
    "1. Implement a helper function called `_rref(A, b)` that applies Gaussian Elimination ***without pivoting*** to return the Reduced-Row Echelon Form of the augmented matrix formed from `Matrix` object `A` and `Vec` object `b`.  The output must be of the type `Matrix`.\n",
    "2. Implement the function `solve_np(A, b)` that uses `_rref(A)` to solve the system $A \\overrightarrow{x} = \\overrightarrow{b}$.  The input `A` is of the type `Matrix` and `b` is of the type `Vec`.\n",
    "    - If the system has a unique solution, it returns the solution as a `Vec` object.  \n",
    "    - If the system has no solution, it returns `None`. \n",
    "    - If the system has infinitely many solutions, it returns the number of free variables (`int`) in the solution."
   ]
  },
  {
   "cell_type": "code",
   "execution_count": null,
   "id": "5d6e18d1",
   "metadata": {},
   "outputs": [],
   "source": [
    "def _rref(A, b):\n",
    "    # todo\n",
    "    pass\n",
    "\n",
    "def solve_np(A, b):\n",
    "    #todo\n",
    "    pass"
   ]
  },
  {
   "cell_type": "markdown",
   "id": "d73cace7",
   "metadata": {},
   "source": [
    "#### Problem 3\n",
    "\n",
    "1. Implement a helper function called `_rref_pp(A, b)` that applies Gaussian Elimination ***with partial pivoting*** to return the Reduced-Row Echelon Form of the augmented matrix formed from `Matrix` object `A` and `Vec` object `b`.  The output must be of the type `Matrix`.\n",
    "2. Implement the function `solve_pp(A, b)` that uses `_rref_pp(A, b)` to solve the system $A \\overrightarrow{x} = \\overrightarrow{b}$.  The input `A` is of the type `Matrix` and `b` is of the type `Vec`.  \n",
    "    - If the system has a unique solution, it returns the solution as a `Vec` object.  \n",
    "    - If the system has no solution, it returns `None`. \n",
    "    - If the system has infinitely many solutions, it returns the number of free variables (`int`) in the solution."
   ]
  },
  {
   "cell_type": "code",
   "execution_count": null,
   "id": "8c12d7f1",
   "metadata": {},
   "outputs": [],
   "source": [
    "def _rref_pp(A, b):\n",
    "    # todo\n",
    "    pass\n",
    "\n",
    "def solve_pp(A, b):\n",
    "    #todo\n",
    "    pass"
   ]
  },
  {
   "cell_type": "markdown",
   "id": "947d8714",
   "metadata": {},
   "source": [
    "#### Problem 4\n",
    "\n",
    "1. Implement a helper function called `_rref_tp(A, b)` that applies Gaussian Elimination ***with total pivoting*** to return the Reduced-Row Echelon Form of the augmented matrix formed from `Matrix` object `A` and `Vec` object `b`.  The output must be of the type `Matrix`. \n",
    "2. Implement the function `solve_tp(A, b)` that uses `_rref_tp(A)` to solve the system $A \\overrightarrow{x} = \\overrightarrow{b}$.  The input `A` is of the type `Matrix` and `b` is of the type `Vec`. \n",
    "    - If the system has a unique solution, it returns the solution as a `Vec` object.  \n",
    "    - If the system has no solution, it returns `None`. \n",
    "    - If the system has infinitely many solutions, it returns the number of free variables (`int`) in the solution."
   ]
  },
  {
   "cell_type": "code",
   "execution_count": null,
   "id": "dc74b150",
   "metadata": {},
   "outputs": [],
   "source": [
    "def _rref_tp(A):\n",
    "    # todo\n",
    "    pass\n",
    "\n",
    "def solve_tp(A, b):\n",
    "    #todo\n",
    "    pass"
   ]
  },
  {
   "cell_type": "markdown",
   "id": "1f2816cb",
   "metadata": {},
   "source": [
    "#### Master function\n",
    "\n",
    "The following function is the master function that will be called by the CodePost tester.  It will be fully functional once you have completed Problems 1 - 4.  No edits are necessary."
   ]
  },
  {
   "cell_type": "code",
   "execution_count": null,
   "id": "d0361cac",
   "metadata": {},
   "outputs": [],
   "source": [
    "import enum\n",
    "\n",
    "class GaussSolvers(enum.Enum):\n",
    "    np = 0\n",
    "    pp = 1\n",
    "    tp = 2\n",
    "    \n",
    "    \n",
    "def solve(A, b, solver = GaussSolvers.np):\n",
    "    if solver == GaussSolvers.np:\n",
    "        return solve_np(A, b)\n",
    "    elif solver == GaussSolvers.pp:\n",
    "        return solve_pp(A, b)\n",
    "    elif solver == GaussSolvers.tp:\n",
    "        return solve_tp(A, b)"
   ]
  },
  {
   "cell_type": "code",
   "execution_count": null,
   "id": "35331f4d",
   "metadata": {},
   "outputs": [],
   "source": [
    "\"\"\"TESTER CELL #1\"\"\"\n",
    "A = Matrix([[1, 2, 3], [4, 5, 6], [7, 8, 9]])\n",
    "\n",
    "x = Vec([2.3, -4.1, 5.7]) # this is the true solution\n",
    "\n",
    "b = A * x\n",
    "\n",
    "x_np = solve(A, b)\n",
    "x_pp = solve(A, b, GaussSolvers.pp)\n",
    "x_tp = solve(A, b, GaussSolvers.tp)\n",
    "\n",
    "epsilon_np = x_np - x\n",
    "epsilon_pp = x_pp - x\n",
    "epsilon_tp = x_tp - x\n",
    "\n",
    "error1_np = epsilon_np.norm(1)\n",
    "error2_np = epsilon_np.norm(2)\n",
    "\n",
    "print(\"-\"*20)\n",
    "print(\"No Pivoting Solution:\", x_np)\n",
    "print(\"True solution:\", x)\n",
    "\n",
    "print(\"Errors in Gaussian Elimination Without Pivoting\")\n",
    "print(\"L1-norm error:\", error1_np)\n",
    "print(\"L2-norm error:\", error1_np)\n",
    "print()\n",
    "\n",
    "print(\"-\"*20)\n",
    "print(\"Partial Pivoting Solution:\", x_pp)\n",
    "print(\"True solution:\", x)\n",
    "\n",
    "error1_pp = epsilon_pp.norm(1)\n",
    "error2_pp = epsilon_pp.norm(2)\n",
    "\n",
    "print(\"Errors in Gaussian Elimination With Partial Pivoting\")\n",
    "print(\"L1-norm error:\", error1_pp)\n",
    "print(\"L2-norm error:\", error1_pp)\n",
    "print()\n",
    "\n",
    "print(\"-\"*20)\n",
    "print(\"Total Pivoting Solution:\", x_tp)\n",
    "print(\"True solution:\", x)\n",
    "\n",
    "error1_tp = epsilon_tp.norm(1)\n",
    "error2_tp = epsilon_tp.norm(2)\n",
    "\n",
    "print(\"Errors in Gaussian Elimination With Total Pivoting\")\n",
    "print(\"L1-norm error:\", error1_tp)\n",
    "print(\"L2-norm error:\", error1_tp)\n"
   ]
  },
  {
   "cell_type": "code",
   "execution_count": null,
   "id": "7c92d324",
   "metadata": {},
   "outputs": [],
   "source": [
    "\"\"\"TESTER CELL #2\"\"\"\n",
    "\n",
    "A = Matrix([[1, 2, 3], [2, 4, 6]])\n",
    "\n",
    "b = Vec([6, -12]) \n",
    "\n",
    "x_np = solve(A, b)\n",
    "x_pp = solve(A, b, GaussSolvers.pp)\n",
    "x_tp = solve(A, b, GaussSolvers.tp)\n",
    "\n",
    "print(\"-\"*20)\n",
    "print(\"No Pivoting Solution:\", x_np)\n",
    "print(\"Expected: None\")\n",
    "\n",
    "print(\"-\"*20)\n",
    "print(\"Partial Pivoting Solution:\", x_pp)\n",
    "print(\"Expected: None\")\n",
    "\n",
    "print(\"-\"*20)\n",
    "print(\"Total Pivoting Solution:\", x_tp)\n",
    "print(\"Expected: None\")"
   ]
  },
  {
   "cell_type": "code",
   "execution_count": null,
   "id": "7432b75f",
   "metadata": {},
   "outputs": [],
   "source": [
    "\"\"\"TESTER CELL #3\"\"\"\n",
    "\n",
    "# Test one of the examples from lecture that had infinitely-many solutions"
   ]
  },
  {
   "cell_type": "markdown",
   "id": "e6bfd1bc",
   "metadata": {},
   "source": [
    "\n",
    "------------------------------------------------\n",
    "\n",
    "#### Problem 5\n",
    "\n",
    "Implement the method `is_independent(S)` that returns `True` if the set `S` of `Vec` objects is linearly **independent**, otherwise returns `False`."
   ]
  },
  {
   "cell_type": "code",
   "execution_count": null,
   "id": "61942ad1",
   "metadata": {},
   "outputs": [],
   "source": [
    "def is_independent(S):\n",
    "    #todo\n",
    "    pass"
   ]
  },
  {
   "cell_type": "code",
   "execution_count": null,
   "id": "d1f99b7b",
   "metadata": {},
   "outputs": [],
   "source": [
    "\"\"\"TESTER CELL\"\"\"\n",
    "\n",
    "S1 = {Vec([1, 2]), Vec([2, 3]), Vec([3, 4])}\n",
    "\n",
    "print(\"S1 is Independent:\", is_independent(S1))\n",
    "print(\"Expected: False\")\n",
    "\n",
    "S2 = {Vec([1, 1, 1]), Vec([1, 2, 3]), Vec([1, 3, 6])}\n",
    "\n",
    "print(\"S2 is Independent:\", is_independent(S2))\n",
    "print(\"Expected: True\")\n",
    "\n"
   ]
  }
 ],
 "metadata": {
  "kernelspec": {
   "display_name": "Python 3 (ipykernel)",
   "language": "python",
   "name": "python3"
  },
  "language_info": {
   "codemirror_mode": {
    "name": "ipython",
    "version": 3
   },
   "file_extension": ".py",
   "mimetype": "text/x-python",
   "name": "python",
   "nbconvert_exporter": "python",
   "pygments_lexer": "ipython3",
   "version": "3.8.8"
  }
 },
 "nbformat": 4,
 "nbformat_minor": 5
}
